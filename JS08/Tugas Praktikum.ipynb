{
  "nbformat": 4,
  "nbformat_minor": 0,
  "metadata": {
    "colab": {
      "provenance": [],
      "authorship_tag": "ABX9TyMTuMl9L2wwx5iAqBH5JUn3",
      "include_colab_link": true
    },
    "kernelspec": {
      "name": "python3",
      "display_name": "Python 3"
    },
    "language_info": {
      "name": "python"
    }
  },
  "cells": [
    {
      "cell_type": "markdown",
      "metadata": {
        "id": "view-in-github",
        "colab_type": "text"
      },
      "source": [
        "<a href=\"https://colab.research.google.com/github/AlyAbdulloh/Machine-Learning-semester5/blob/main/JS08/Tugas%20Praktikum.ipynb\" target=\"_parent\"><img src=\"https://colab.research.google.com/assets/colab-badge.svg\" alt=\"Open In Colab\"/></a>"
      ]
    },
    {
      "cell_type": "markdown",
      "source": [
        "# Tugas Praktikum"
      ],
      "metadata": {
        "id": "1x6qqKzmsiXh"
      }
    },
    {
      "cell_type": "markdown",
      "source": [
        "- Lakukan klasifikasi pada data MNIST dengan menggunakan model ANN\n",
        "- Anda diperbolehkan melakukan eksplorasi terhadap,\n",
        "  - Metode pra pengolahan\n",
        "  - Pemilihan fitur\n",
        "  - Arsitektur ANN\n",
        "  - Fungsi Aktiviasi\n",
        "- ANN diimplementasikan dengan menggunakan tensorflow.\n",
        "- DIKERJAKAN SECARA BERKELOMPOK\n",
        "- JELASKAN HASIL YANG ANDA DAPATKAN,\n",
        "  - AKURASI\n",
        "  - CONFUSION MATRIX\n",
        "  - KONFIGURASI MODEL --> MULAI DARI PRA PENGOLAHAN SAMPAI ARSITEKTUR ANN"
      ],
      "metadata": {
        "id": "DwCUJ0srspHT"
      }
    },
    {
      "cell_type": "markdown",
      "source": [
        "### Langkah 1 - Import Library"
      ],
      "metadata": {
        "id": "92zZ2bI7oyoO"
      }
    },
    {
      "cell_type": "code",
      "execution_count": 1,
      "metadata": {
        "id": "of_7jNkhlhjk"
      },
      "outputs": [],
      "source": [
        "import tensorflow as tf\n",
        "from tensorflow import keras\n",
        "from tensorflow.keras import layers"
      ]
    },
    {
      "cell_type": "markdown",
      "source": [
        "### Langkah 2 - Pra-pengolahan data MNIST"
      ],
      "metadata": {
        "id": "E1eDmvX6qd1Q"
      }
    },
    {
      "cell_type": "code",
      "source": [
        "# Pra-pengolahan data\n",
        "(x_train, y_train), (x_test, y_test) = keras.datasets.mnist.load_data() # load data MNIST dan split data\n",
        "\n",
        "# ubah bentuk fitur menjadi vektor dan dinormalisasi\n",
        "x_train = x_train.reshape(-1, 784).astype(\"float32\") / 255.0\n",
        "x_test = x_test.reshape(-1, 784).astype(\"float32\") / 255.0"
      ],
      "metadata": {
        "colab": {
          "base_uri": "https://localhost:8080/"
        },
        "id": "KaaAacqvpSFj",
        "outputId": "700e7444-918c-4746-ce9e-f1bbd924899e"
      },
      "execution_count": 2,
      "outputs": [
        {
          "output_type": "stream",
          "name": "stdout",
          "text": [
            "Downloading data from https://storage.googleapis.com/tensorflow/tf-keras-datasets/mnist.npz\n",
            "11490434/11490434 [==============================] - 1s 0us/step\n"
          ]
        }
      ]
    },
    {
      "cell_type": "markdown",
      "source": [
        "### Langkkah 3 - Buat Arsitektur ANN"
      ],
      "metadata": {
        "id": "wF92XUoDrIEs"
      }
    },
    {
      "cell_type": "code",
      "source": [
        "# Arsitektur ANN\n",
        "# Terdiri dari 3 lapisan Dense dengan funsi aktivasi ReLU\n",
        "ann = keras.Sequential(\n",
        "    [\n",
        "        layers.Dense(256, activation=\"relu\"),\n",
        "        layers.Dense(128, activation=\"relu\"),\n",
        "        layers.Dense(10),\n",
        "    ]\n",
        ")\n"
      ],
      "metadata": {
        "id": "01saM11LpX_N"
      },
      "execution_count": 7,
      "outputs": []
    },
    {
      "cell_type": "markdown",
      "source": [
        "### Langkah 4 - Buat Fugsi Aktivasi"
      ],
      "metadata": {
        "id": "x4QwyBZEregd"
      }
    },
    {
      "cell_type": "code",
      "source": [
        "# Fungsi aktivasi\n",
        "ann.compile(\n",
        "    optimizer=keras.optimizers.Adam(0.001),\n",
        "    loss=keras.losses.SparseCategoricalCrossentropy(from_logits=True),\n",
        "    metrics=[\"accuracy\"],\n",
        ")"
      ],
      "metadata": {
        "id": "nSbGpP6bpeJN"
      },
      "execution_count": 8,
      "outputs": []
    },
    {
      "cell_type": "markdown",
      "source": [
        "### Langkah 5 - Latih Model ANN dan Lakukan Evaluasi Model"
      ],
      "metadata": {
        "id": "56VJDOBfrnn2"
      }
    },
    {
      "cell_type": "code",
      "source": [
        "# Pelatihan model\n",
        "# Model dilatih menggunakan data latih dengan batch size 32 dan epoch sebanyak 5 kali.\n",
        "ann.fit(x_train, y_train, batch_size=32, epochs=5, verbose=2)\n",
        "\n",
        "# Evaluasi model\n",
        "# Model dievaluasi menggunakan data uji dan menghitung akurasi.\n",
        "test_loss, test_acc = ann.evaluate(x_test, y_test, verbose=2)\n",
        "print(\"Test accuracy:\", test_acc)"
      ],
      "metadata": {
        "colab": {
          "base_uri": "https://localhost:8080/"
        },
        "id": "NZAunUIRphw9",
        "outputId": "15ccdb0a-784f-4740-8347-e8feb737c130"
      },
      "execution_count": 9,
      "outputs": [
        {
          "output_type": "stream",
          "name": "stdout",
          "text": [
            "Epoch 1/5\n",
            "1875/1875 - 10s - loss: 0.2058 - accuracy: 0.9385 - 10s/epoch - 5ms/step\n",
            "Epoch 2/5\n",
            "1875/1875 - 9s - loss: 0.0871 - accuracy: 0.9729 - 9s/epoch - 5ms/step\n",
            "Epoch 3/5\n",
            "1875/1875 - 8s - loss: 0.0561 - accuracy: 0.9825 - 8s/epoch - 4ms/step\n",
            "Epoch 4/5\n",
            "1875/1875 - 11s - loss: 0.0441 - accuracy: 0.9858 - 11s/epoch - 6ms/step\n",
            "Epoch 5/5\n",
            "1875/1875 - 10s - loss: 0.0350 - accuracy: 0.9885 - 10s/epoch - 5ms/step\n",
            "313/313 - 1s - loss: 0.0849 - accuracy: 0.9762 - 781ms/epoch - 2ms/step\n",
            "Test accuracy: 0.9761999845504761\n"
          ]
        }
      ]
    },
    {
      "cell_type": "markdown",
      "source": [
        "### Langkah 6 - Tampilkan Confusion Matrix"
      ],
      "metadata": {
        "id": "ZZjdJ6k2wjO3"
      }
    },
    {
      "cell_type": "code",
      "source": [
        "# Confusion matrix\n",
        "# Confusion matrix dihitung menggunakan data uji dan prediksi model.\n",
        "y_pred = ann.predict(x_test)\n",
        "confusion_matrix = tf.math.confusion_matrix(y_test, tf.argmax(y_pred, axis=1))\n",
        "print(\"Confusion matrix:\\n\", confusion_matrix)"
      ],
      "metadata": {
        "colab": {
          "base_uri": "https://localhost:8080/"
        },
        "id": "Uk8kALFrqRMy",
        "outputId": "2e637c6a-c09b-4a91-b1ac-43093e9a3b97"
      },
      "execution_count": 10,
      "outputs": [
        {
          "output_type": "stream",
          "name": "stdout",
          "text": [
            "313/313 [==============================] - 1s 2ms/step\n",
            "Confusion matrix:\n",
            " tf.Tensor(\n",
            "[[ 968    1    1    1    1    2    2    1    1    2]\n",
            " [   0 1124    1    0    0    2    6    0    1    1]\n",
            " [   4    2 1011    1    1    0    3    4    6    0]\n",
            " [   1    0    4  978    0    6    0    2    6   13]\n",
            " [   1    1    3    0  958    0    3    2    0   14]\n",
            " [   3    0    0    3    1  867   10    1    3    4]\n",
            " [  12    2    2    0    6    1  935    0    0    0]\n",
            " [   0   11    8    0    0    1    0  991    2   15]\n",
            " [   3    0    2    3    7    5    5    3  936   10]\n",
            " [   1    2    0    1    4    2    0    5    0  994]], shape=(10, 10), dtype=int32)\n"
          ]
        }
      ]
    }
  ]
}