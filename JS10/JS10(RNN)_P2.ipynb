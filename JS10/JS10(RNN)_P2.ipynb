{
  "nbformat": 4,
  "nbformat_minor": 0,
  "metadata": {
    "colab": {
      "provenance": [],
      "gpuType": "T4",
      "authorship_tag": "ABX9TyN1y71Im6puFReQtp1VqhDk",
      "include_colab_link": true
    },
    "kernelspec": {
      "name": "python3",
      "display_name": "Python 3"
    },
    "language_info": {
      "name": "python"
    },
    "accelerator": "GPU"
  },
  "cells": [
    {
      "cell_type": "markdown",
      "metadata": {
        "id": "view-in-github",
        "colab_type": "text"
      },
      "source": [
        "<a href=\"https://colab.research.google.com/github/AlyAbdulloh/Machine-Learning-semester5/blob/main/JS10/JS10(RNN)_P2.ipynb\" target=\"_parent\"><img src=\"https://colab.research.google.com/assets/colab-badge.svg\" alt=\"Open In Colab\"/></a>"
      ]
    },
    {
      "cell_type": "markdown",
      "source": [
        "# Praktikum 2"
      ],
      "metadata": {
        "id": "FezmzWKr8BA9"
      }
    },
    {
      "cell_type": "markdown",
      "source": [
        "**Generator Teks dengan RNN**"
      ],
      "metadata": {
        "id": "2zGJiVzx8C_-"
      }
    },
    {
      "cell_type": "markdown",
      "source": [],
      "metadata": {
        "id": "nsJFc00O8GMp"
      }
    },
    {
      "cell_type": "code",
      "execution_count": 1,
      "metadata": {
        "id": "TJjR-7Hw7yiE"
      },
      "outputs": [],
      "source": [
        "import tensorflow as tf\n",
        "import numpy as np\n",
        "import os\n",
        "import time"
      ]
    },
    {
      "cell_type": "markdown",
      "source": [
        "## Setup"
      ],
      "metadata": {
        "id": "ro8S3fnO9zKc"
      }
    },
    {
      "cell_type": "markdown",
      "source": [
        "**Download Dataset Shakespeare**"
      ],
      "metadata": {
        "id": "QcXzxO_R8z6W"
      }
    },
    {
      "cell_type": "code",
      "source": [
        "path_to_file = tf.keras.utils.get_file('/content/data/shakespeare.txt', 'https://storage.googleapis.com/download.tensorflow.org/data/shakespeare.txt')"
      ],
      "metadata": {
        "colab": {
          "base_uri": "https://localhost:8080/"
        },
        "id": "m6Bg1-ot8x8Q",
        "outputId": "eeb836d8-2e31-4ab7-f717-0530bd3266ba"
      },
      "execution_count": 3,
      "outputs": [
        {
          "output_type": "stream",
          "name": "stdout",
          "text": [
            "Downloading data from https://storage.googleapis.com/download.tensorflow.org/data/shakespeare.txt\n",
            "1115394/1115394 [==============================] - 1s 1us/step\n"
          ]
        }
      ]
    },
    {
      "cell_type": "markdown",
      "source": [
        "**Load Data**"
      ],
      "metadata": {
        "id": "rKtE0Sgo9bWA"
      }
    },
    {
      "cell_type": "code",
      "source": [
        "# Read, then decode for py2 compat.\n",
        "text = open(path_to_file, 'rb').read().decode(encoding='utf-8')\n",
        "# length of text is the number of characters in it\n",
        "print(f'Length of text: {len(text)} characters')"
      ],
      "metadata": {
        "colab": {
          "base_uri": "https://localhost:8080/"
        },
        "id": "jYIqzUow9cmg",
        "outputId": "dbc41085-2cff-4ecd-8eb6-5480cc1b554f"
      },
      "execution_count": 4,
      "outputs": [
        {
          "output_type": "stream",
          "name": "stdout",
          "text": [
            "Length of text: 1115394 characters\n"
          ]
        }
      ]
    },
    {
      "cell_type": "code",
      "source": [
        "# Take a look at the first 250 characters in text\n",
        "print(text[:250])"
      ],
      "metadata": {
        "colab": {
          "base_uri": "https://localhost:8080/"
        },
        "id": "HpfO8kZ_9klG",
        "outputId": "a5090da2-7904-4ad7-c2e5-32194df9af78"
      },
      "execution_count": 5,
      "outputs": [
        {
          "output_type": "stream",
          "name": "stdout",
          "text": [
            "First Citizen:\n",
            "Before we proceed any further, hear me speak.\n",
            "\n",
            "All:\n",
            "Speak, speak.\n",
            "\n",
            "First Citizen:\n",
            "You are all resolved rather to die than to famish?\n",
            "\n",
            "All:\n",
            "Resolved. resolved.\n",
            "\n",
            "First Citizen:\n",
            "First, you know Caius Marcius is chief enemy to the people.\n",
            "\n"
          ]
        }
      ]
    },
    {
      "cell_type": "code",
      "source": [
        "# The unique characters in the file\n",
        "vocab = sorted(set(text))\n",
        "print(f'{len(vocab)} unique characters')"
      ],
      "metadata": {
        "colab": {
          "base_uri": "https://localhost:8080/"
        },
        "id": "eclR8Cdr9m09",
        "outputId": "091cebaf-be2d-46be-949f-f7b8b97f000a"
      },
      "execution_count": 6,
      "outputs": [
        {
          "output_type": "stream",
          "name": "stdout",
          "text": [
            "65 unique characters\n"
          ]
        }
      ]
    },
    {
      "cell_type": "markdown",
      "source": [
        "## Olah Teks"
      ],
      "metadata": {
        "id": "c-vj949x92YQ"
      }
    },
    {
      "cell_type": "markdown",
      "source": [
        "**Vectorize Teks**"
      ],
      "metadata": {
        "id": "WQxcXCDu97fC"
      }
    },
    {
      "cell_type": "markdown",
      "source": [
        "Sebelum training, Anda perlu mengonversi string menjadi representasi numerik. `tf.keras.layers.StringLookup` dapat mengubah setiap karakter menjadi ID numerik. Caranya adalah teks akan dipecah menjadi token terlebih dahulu."
      ],
      "metadata": {
        "id": "HMVEciNu-Agp"
      }
    },
    {
      "cell_type": "code",
      "source": [
        "example_texts = ['abcdefg', 'xyz']\n",
        "chars = tf.strings.unicode_split(example_texts, input_encoding='UTF-8')\n",
        "chars"
      ],
      "metadata": {
        "colab": {
          "base_uri": "https://localhost:8080/"
        },
        "id": "sPEyTpn195xJ",
        "outputId": "ed761bb5-b37b-4706-dbcf-90e4090f949f"
      },
      "execution_count": 7,
      "outputs": [
        {
          "output_type": "execute_result",
          "data": {
            "text/plain": [
              "<tf.RaggedTensor [[b'a', b'b', b'c', b'd', b'e', b'f', b'g'], [b'x', b'y', b'z']]>"
            ]
          },
          "metadata": {},
          "execution_count": 7
        }
      ]
    },
    {
      "cell_type": "markdown",
      "source": [
        "sekarang buat tf.keras.layers.StringLookup layer:"
      ],
      "metadata": {
        "id": "MB17DQI4-d_2"
      }
    },
    {
      "cell_type": "code",
      "source": [
        "ids_from_chars = tf.keras.layers.StringLookup(\n",
        "vocabulary=list(vocab), mask_token=None)"
      ],
      "metadata": {
        "id": "uFU2R7lt-ex3"
      },
      "execution_count": 8,
      "outputs": []
    },
    {
      "cell_type": "markdown",
      "source": [
        "perintah diatas mengconvert token menjadi id"
      ],
      "metadata": {
        "id": "WmjC0ME9-ntM"
      }
    },
    {
      "cell_type": "code",
      "source": [
        "ids = ids_from_chars(chars)\n",
        "ids\n"
      ],
      "metadata": {
        "colab": {
          "base_uri": "https://localhost:8080/"
        },
        "id": "88JRhZNI-ooT",
        "outputId": "c7508d8f-22e6-4fb9-abe4-61fbfcc26c06"
      },
      "execution_count": 9,
      "outputs": [
        {
          "output_type": "execute_result",
          "data": {
            "text/plain": [
              "<tf.RaggedTensor [[40, 41, 42, 43, 44, 45, 46], [63, 64, 65]]>"
            ]
          },
          "metadata": {},
          "execution_count": 9
        }
      ]
    },
    {
      "cell_type": "markdown",
      "source": [
        "Karena tujuan tutorial ini adalah untuk menghasilkan teks, penting juga untuk membalikkan representasi ini. Untuk ini Anda dapat menggunakan kode `tf.keras.layers.StringLookup(..., invert=True)`.\n",
        "\n",
        "Catatan: pada kode ini, daripada meneruskan kosakata asli yang dihasilkan dengan diurutkan(set(teks)) gunakan metode `get_vocabulary()` dari `tf.keras.layers.StringLookup` sehingga token [UNK] disetel dengan cara yang sama."
      ],
      "metadata": {
        "id": "8K7GKSkk-5ER"
      }
    },
    {
      "cell_type": "code",
      "source": [
        "chars_from_ids = tf.keras.layers.StringLookup(\n",
        "    vocabulary=ids_from_chars.get_vocabulary(), invert=True, mask_token=None)"
      ],
      "metadata": {
        "id": "1B-dlbRM_Ini"
      },
      "execution_count": 10,
      "outputs": []
    },
    {
      "cell_type": "markdown",
      "source": [
        "Lapisan ini mengconvert kembali karakter dari vektor ID, dan mengembalikannya sebagai karakter `tf.RaggedTensor`:"
      ],
      "metadata": {
        "id": "s6alt6Ji_PYA"
      }
    },
    {
      "cell_type": "code",
      "source": [
        "chars = chars_from_ids(ids)\n",
        "chars"
      ],
      "metadata": {
        "colab": {
          "base_uri": "https://localhost:8080/"
        },
        "id": "Mfwzpbqd_My4",
        "outputId": "481d9255-623d-4afb-9118-f00fe2671bab"
      },
      "execution_count": 12,
      "outputs": [
        {
          "output_type": "execute_result",
          "data": {
            "text/plain": [
              "<tf.RaggedTensor [[b'a', b'b', b'c', b'd', b'e', b'f', b'g'], [b'x', b'y', b'z']]>"
            ]
          },
          "metadata": {},
          "execution_count": 12
        }
      ]
    },
    {
      "cell_type": "markdown",
      "source": [
        "Anda dapat menggunakan `tf.strings.reduce_join` untuk menggabungkan kembali karakter menjadi string."
      ],
      "metadata": {
        "id": "nK_Hd3kx_nFi"
      }
    },
    {
      "cell_type": "code",
      "source": [
        "tf.strings.reduce_join(chars, axis=-1).numpy()"
      ],
      "metadata": {
        "colab": {
          "base_uri": "https://localhost:8080/"
        },
        "id": "iOw4UgF9_rbk",
        "outputId": "a6009ddf-221e-45a4-aaed-0c36c79e9001"
      },
      "execution_count": 13,
      "outputs": [
        {
          "output_type": "execute_result",
          "data": {
            "text/plain": [
              "array([b'abcdefg', b'xyz'], dtype=object)"
            ]
          },
          "metadata": {},
          "execution_count": 13
        }
      ]
    },
    {
      "cell_type": "code",
      "source": [
        "def text_from_ids(ids):\n",
        "    return tf.strings.reduce_join(chars_from_ids(ids), axis=-1)"
      ],
      "metadata": {
        "id": "K8g0CAlF_wMt"
      },
      "execution_count": 14,
      "outputs": []
    },
    {
      "cell_type": "markdown",
      "source": [
        "**Prediksi**"
      ],
      "metadata": {
        "id": "sXb5_7Q2_4C2"
      }
    },
    {
      "cell_type": "markdown",
      "source": [
        "Diberikan sebuah karakter, atau serangkaian karakter, karakter apa yang paling mungkin berikutnya? Ini adalah tugas yang harus Anda latih agar model dapat melakukannya. Masukan ke model akan berupa urutan karakter, dan Anda melatih model untuk memprediksi keluaran berupa karakter berikut pada setiap langkah waktu. Karena RNN mempertahankan keadaan internal yang bergantung pada elemen yang terlihat sebelumnya, mengingat semua karakter dihitung hingga saat ini, karakter apa selanjutnya?"
      ],
      "metadata": {
        "id": "nCRJGE7D_5yV"
      }
    },
    {
      "cell_type": "markdown",
      "source": [
        "**Membuat Trianing Set dan Target**"
      ],
      "metadata": {
        "id": "lLsFU-LJABZ4"
      }
    },
    {
      "cell_type": "markdown",
      "source": [
        "Selanjutnya bagilah teks menjadi contoh sequence. Setiap masukan sequence akan berisi karakter seq_length dari teks. Untuk setiap masukan sequence, target prediksi berisi teks dengan panjang yang sama, hanya digeser satu karakter ke kanan. Jadi, bagi teks menjadi beberapa bagian seq_length+1. Misalnya, seq_length adalah 4 dan teks kita adalah \"Hello\". Urutan masukannya adalah \"Hell\", dan urutan targetnya adalah \"ello\". Untuk melakukan ini, pertama-tama gunakan fungsi tf.data.Dataset.from_tensor_slices untuk mengonversi vektor teks menjadi aliran indeks karakter."
      ],
      "metadata": {
        "id": "iSzGg0ucADqr"
      }
    },
    {
      "cell_type": "code",
      "source": [
        "all_ids = ids_from_chars(tf.strings.unicode_split(text, 'UTF-8'))\n",
        "all_ids"
      ],
      "metadata": {
        "colab": {
          "base_uri": "https://localhost:8080/"
        },
        "id": "PVe1_aJoAGg6",
        "outputId": "c72679d0-8177-4b93-dfa4-5599075931f6"
      },
      "execution_count": 15,
      "outputs": [
        {
          "output_type": "execute_result",
          "data": {
            "text/plain": [
              "<tf.Tensor: shape=(1115394,), dtype=int64, numpy=array([19, 48, 57, ..., 46,  9,  1])>"
            ]
          },
          "metadata": {},
          "execution_count": 15
        }
      ]
    },
    {
      "cell_type": "code",
      "source": [
        "ids_dataset = tf.data.Dataset.from_tensor_slices(all_ids)"
      ],
      "metadata": {
        "id": "tLJj03Z_AG4Q"
      },
      "execution_count": 16,
      "outputs": []
    },
    {
      "cell_type": "code",
      "source": [
        "for ids in ids_dataset.take(10):\n",
        "    print(chars_from_ids(ids).numpy().decode('utf-8'))"
      ],
      "metadata": {
        "colab": {
          "base_uri": "https://localhost:8080/"
        },
        "id": "EszP8aknAO64",
        "outputId": "ee499fb7-21e9-4e52-f2d1-88d7698e104c"
      },
      "execution_count": 17,
      "outputs": [
        {
          "output_type": "stream",
          "name": "stdout",
          "text": [
            "F\n",
            "i\n",
            "r\n",
            "s\n",
            "t\n",
            " \n",
            "C\n",
            "i\n",
            "t\n",
            "i\n"
          ]
        }
      ]
    },
    {
      "cell_type": "code",
      "source": [
        "seq_length = 100"
      ],
      "metadata": {
        "id": "jxf2RUwgAU2h"
      },
      "execution_count": 18,
      "outputs": []
    },
    {
      "cell_type": "markdown",
      "source": [
        "Metode batch memungkinkan Anda dengan mudah mengonversi karakter individual ini menjadi urutan ukuran yang diinginkan."
      ],
      "metadata": {
        "id": "ztofRIWCAm0Y"
      }
    },
    {
      "cell_type": "code",
      "source": [
        "sequences = ids_dataset.batch(seq_length+1, drop_remainder=True)\n",
        "\n",
        "for seq in sequences.take(1):\n",
        "  print(chars_from_ids(seq))"
      ],
      "metadata": {
        "colab": {
          "base_uri": "https://localhost:8080/"
        },
        "id": "OMa8Xf6oAoH-",
        "outputId": "5d9b6e07-617c-45f5-ba53-8249fa15241a"
      },
      "execution_count": 20,
      "outputs": [
        {
          "output_type": "stream",
          "name": "stdout",
          "text": [
            "tf.Tensor(\n",
            "[b'F' b'i' b'r' b's' b't' b' ' b'C' b'i' b't' b'i' b'z' b'e' b'n' b':'\n",
            " b'\\n' b'B' b'e' b'f' b'o' b'r' b'e' b' ' b'w' b'e' b' ' b'p' b'r' b'o'\n",
            " b'c' b'e' b'e' b'd' b' ' b'a' b'n' b'y' b' ' b'f' b'u' b'r' b't' b'h'\n",
            " b'e' b'r' b',' b' ' b'h' b'e' b'a' b'r' b' ' b'm' b'e' b' ' b's' b'p'\n",
            " b'e' b'a' b'k' b'.' b'\\n' b'\\n' b'A' b'l' b'l' b':' b'\\n' b'S' b'p' b'e'\n",
            " b'a' b'k' b',' b' ' b's' b'p' b'e' b'a' b'k' b'.' b'\\n' b'\\n' b'F' b'i'\n",
            " b'r' b's' b't' b' ' b'C' b'i' b't' b'i' b'z' b'e' b'n' b':' b'\\n' b'Y'\n",
            " b'o' b'u' b' '], shape=(101,), dtype=string)\n"
          ]
        }
      ]
    },
    {
      "cell_type": "markdown",
      "source": [
        "akan lebih mudah untuk melihat apa yang dilakukan jika Anda menggabungkan token kembali menjadi string:"
      ],
      "metadata": {
        "id": "KAVcgtoVArcx"
      }
    },
    {
      "cell_type": "code",
      "source": [
        "for seq in sequences.take(5):\n",
        "    print(text_from_ids(seq).numpy())"
      ],
      "metadata": {
        "colab": {
          "base_uri": "https://localhost:8080/"
        },
        "id": "bRKJd8Z5Asc-",
        "outputId": "2cf8b4a8-995a-4f99-c5b4-eecaa7d9e622"
      },
      "execution_count": 21,
      "outputs": [
        {
          "output_type": "stream",
          "name": "stdout",
          "text": [
            "b'First Citizen:\\nBefore we proceed any further, hear me speak.\\n\\nAll:\\nSpeak, speak.\\n\\nFirst Citizen:\\nYou '\n",
            "b'are all resolved rather to die than to famish?\\n\\nAll:\\nResolved. resolved.\\n\\nFirst Citizen:\\nFirst, you k'\n",
            "b\"now Caius Marcius is chief enemy to the people.\\n\\nAll:\\nWe know't, we know't.\\n\\nFirst Citizen:\\nLet us ki\"\n",
            "b\"ll him, and we'll have corn at our own price.\\nIs't a verdict?\\n\\nAll:\\nNo more talking on't; let it be d\"\n",
            "b'one: away, away!\\n\\nSecond Citizen:\\nOne word, good citizens.\\n\\nFirst Citizen:\\nWe are accounted poor citi'\n"
          ]
        }
      ]
    },
    {
      "cell_type": "markdown",
      "source": [
        "Untuk pelatihan, Anda memerlukan kumpulan data pasangan (input, label). Dimana input dan label merupakan urutan. Pada setiap langkah waktu, inputnya adalah karakter saat ini dan labelnya adalah karakter berikutnya. Berikut adalah fungsi yang mengambil urutan sebagai masukan, menduplikasi, dan menggesernya untuk menyelaraskan masukan dan label untuk setiap langkah waktu:"
      ],
      "metadata": {
        "id": "vu8k5xnaAy07"
      }
    },
    {
      "cell_type": "code",
      "source": [
        "def split_input_target(sequence):\n",
        "    input_text = sequence[:-1]\n",
        "    target_text = sequence[1:]\n",
        "    return input_text, target_text"
      ],
      "metadata": {
        "id": "BUqajwCCAzv2"
      },
      "execution_count": 22,
      "outputs": []
    },
    {
      "cell_type": "code",
      "source": [
        "split_input_target(list(\"Tensorflow\"))"
      ],
      "metadata": {
        "colab": {
          "base_uri": "https://localhost:8080/"
        },
        "id": "-CHNN71OA9Fa",
        "outputId": "80727270-689e-43e2-9de9-029f306c841c"
      },
      "execution_count": 23,
      "outputs": [
        {
          "output_type": "execute_result",
          "data": {
            "text/plain": [
              "(['T', 'e', 'n', 's', 'o', 'r', 'f', 'l', 'o'],\n",
              " ['e', 'n', 's', 'o', 'r', 'f', 'l', 'o', 'w'])"
            ]
          },
          "metadata": {},
          "execution_count": 23
        }
      ]
    },
    {
      "cell_type": "code",
      "source": [
        "dataset = sequences.map(split_input_target)"
      ],
      "metadata": {
        "id": "GVdjgzjuA_uW"
      },
      "execution_count": 24,
      "outputs": []
    },
    {
      "cell_type": "code",
      "source": [
        "for input_example, target_example in dataset.take(1):\n",
        "    print(\"Input :\", text_from_ids(input_example).numpy())\n",
        "    print(\"Target:\", text_from_ids(target_example).numpy())"
      ],
      "metadata": {
        "colab": {
          "base_uri": "https://localhost:8080/"
        },
        "id": "Z-QZv7acBCfu",
        "outputId": "502ab27a-d757-49fa-b005-ae46ebcd348d"
      },
      "execution_count": 25,
      "outputs": [
        {
          "output_type": "stream",
          "name": "stdout",
          "text": [
            "Input : b'First Citizen:\\nBefore we proceed any further, hear me speak.\\n\\nAll:\\nSpeak, speak.\\n\\nFirst Citizen:\\nYou'\n",
            "Target: b'irst Citizen:\\nBefore we proceed any further, hear me speak.\\n\\nAll:\\nSpeak, speak.\\n\\nFirst Citizen:\\nYou '\n"
          ]
        }
      ]
    },
    {
      "cell_type": "markdown",
      "source": [
        "**Membuat Batch Training**"
      ],
      "metadata": {
        "id": "HJlNilRkCHRG"
      }
    },
    {
      "cell_type": "markdown",
      "source": [
        "Anda menggunakan tf.data untuk membagi teks menjadi sequence yang dapat diatur. Namun sebelum memasukkan data ini ke dalam model, Anda perlu mengacak data dan mengemasnya ke dalam batch."
      ],
      "metadata": {
        "id": "E85tsNt3CMnI"
      }
    },
    {
      "cell_type": "code",
      "source": [
        "# Batch size\n",
        "BATCH_SIZE = 64\n",
        "\n",
        "# Buffer size to shuffle the dataset\n",
        "# (TF data is designed to work with possibly infinite sequences,\n",
        "# so it doesn't attempt to shuffle the entire sequence in memory. Instead,\n",
        "# it maintains a buffer in which it shuffles elements).\n",
        "BUFFER_SIZE = 10000\n",
        "\n",
        "dataset = (\n",
        "    dataset\n",
        "    .shuffle(BUFFER_SIZE)\n",
        "    .batch(BATCH_SIZE, drop_remainder=True)\n",
        "    .prefetch(tf.data.experimental.AUTOTUNE))\n",
        "\n",
        "dataset"
      ],
      "metadata": {
        "colab": {
          "base_uri": "https://localhost:8080/"
        },
        "id": "Ll1Pac3BCKUU",
        "outputId": "1e46cfb6-58b4-456e-8578-d7f6f5454f77"
      },
      "execution_count": 26,
      "outputs": [
        {
          "output_type": "execute_result",
          "data": {
            "text/plain": [
              "<_PrefetchDataset element_spec=(TensorSpec(shape=(64, 100), dtype=tf.int64, name=None), TensorSpec(shape=(64, 100), dtype=tf.int64, name=None))>"
            ]
          },
          "metadata": {},
          "execution_count": 26
        }
      ]
    },
    {
      "cell_type": "markdown",
      "source": [
        "## Buat Model"
      ],
      "metadata": {
        "id": "1SYNgszPCYFq"
      }
    },
    {
      "cell_type": "code",
      "source": [
        "# Length of the vocabulary in StringLookup Layer\n",
        "vocab_size = len(ids_from_chars.get_vocabulary())\n",
        "\n",
        "# The embedding dimension\n",
        "embedding_dim = 256\n",
        "\n",
        "# Number of RNN units\n",
        "rnn_units = 1024"
      ],
      "metadata": {
        "id": "SqtkQcqGCXhm"
      },
      "execution_count": 27,
      "outputs": []
    },
    {
      "cell_type": "code",
      "source": [
        "class MyModel(tf.keras.Model):\n",
        "  def __init__(self, vocab_size, embedding_dim, rnn_units):\n",
        "    super().__init__(self)\n",
        "    self.embedding = tf.keras.layers.Embedding(vocab_size, embedding_dim)\n",
        "    self.gru = tf.keras.layers.GRU(rnn_units,\n",
        "                                   return_sequences=True,\n",
        "                                   return_state=True)\n",
        "    self.dense = tf.keras.layers.Dense(vocab_size)\n",
        "\n",
        "  def call(self, inputs, states=None, return_state=False, training=False):\n",
        "    x = inputs\n",
        "    x = self.embedding(x, training=training)\n",
        "    if states is None:\n",
        "      states = self.gru.get_initial_state(x)\n",
        "    x, states = self.gru(x, initial_state=states, training=training)\n",
        "    x = self.dense(x, training=training)\n",
        "\n",
        "    if return_state:\n",
        "      return x, states\n",
        "    else:\n",
        "      return x"
      ],
      "metadata": {
        "id": "VjTZm6EPCm7F"
      },
      "execution_count": 28,
      "outputs": []
    },
    {
      "cell_type": "code",
      "source": [
        "model = MyModel(\n",
        "    vocab_size=vocab_size,\n",
        "    embedding_dim=embedding_dim,\n",
        "    rnn_units=rnn_units)"
      ],
      "metadata": {
        "id": "akURwtAUCpex"
      },
      "execution_count": 29,
      "outputs": []
    },
    {
      "cell_type": "markdown",
      "source": [
        "## Uji Model"
      ],
      "metadata": {
        "id": "4c6_dhKMCzIK"
      }
    },
    {
      "cell_type": "markdown",
      "source": [
        "Coba jalankan model dan cek apakah sidah sesuai dengan output\n",
        "\n",
        "pertama, cek bentuk dari output"
      ],
      "metadata": {
        "id": "7Kx3ckqdC37Z"
      }
    },
    {
      "cell_type": "code",
      "source": [
        "for input_example_batch, target_example_batch in dataset.take(1):\n",
        "    example_batch_predictions = model(input_example_batch)\n",
        "    print(example_batch_predictions.shape, \"# (batch_size, sequence_length, vocab_size)\")"
      ],
      "metadata": {
        "colab": {
          "base_uri": "https://localhost:8080/"
        },
        "id": "YmzO0mUFDTet",
        "outputId": "6cabf060-902c-4a0a-ffb8-7e8df221163a"
      },
      "execution_count": 30,
      "outputs": [
        {
          "output_type": "stream",
          "name": "stdout",
          "text": [
            "(64, 100, 66) # (batch_size, sequence_length, vocab_size)\n"
          ]
        }
      ]
    },
    {
      "cell_type": "markdown",
      "source": [
        "Dalam contoh di atas, panjang urutan masukan adalah 100 tetapi model dapat dijalankan pada masukan dengan panjang berapa pun:"
      ],
      "metadata": {
        "id": "5l4ke4OYDbC3"
      }
    },
    {
      "cell_type": "code",
      "source": [
        "model.summary()"
      ],
      "metadata": {
        "colab": {
          "base_uri": "https://localhost:8080/"
        },
        "id": "8QuY43xjDdM4",
        "outputId": "07897a78-2a2d-4e4b-b006-34ebe84c5b0c"
      },
      "execution_count": 31,
      "outputs": [
        {
          "output_type": "stream",
          "name": "stdout",
          "text": [
            "Model: \"my_model\"\n",
            "_________________________________________________________________\n",
            " Layer (type)                Output Shape              Param #   \n",
            "=================================================================\n",
            " embedding (Embedding)       multiple                  16896     \n",
            "                                                                 \n",
            " gru (GRU)                   multiple                  3938304   \n",
            "                                                                 \n",
            " dense (Dense)               multiple                  67650     \n",
            "                                                                 \n",
            "=================================================================\n",
            "Total params: 4022850 (15.35 MB)\n",
            "Trainable params: 4022850 (15.35 MB)\n",
            "Non-trainable params: 0 (0.00 Byte)\n",
            "_________________________________________________________________\n"
          ]
        }
      ]
    },
    {
      "cell_type": "markdown",
      "source": [
        "Untuk mendapatkan prediksi aktual dari model, Anda perlu mengambil sampel dari distribusi keluaran, untuk mendapatkan indeks karakter aktual. Distribusi ini ditentukan oleh logit pada kosakata karakter. Catatan: Penting untuk mengambil sampel dari distribusi ini karena mengambil argmax dari distribusi tersebut dapat dengan mudah membuat model terjebak dalam infinote loop. Cobalah untuk contoh pertama di batch:"
      ],
      "metadata": {
        "id": "LVdpvItLDhCd"
      }
    },
    {
      "cell_type": "code",
      "source": [
        "sampled_indices = tf.random.categorical(example_batch_predictions[0], num_samples=1)\n",
        "sampled_indices = tf.squeeze(sampled_indices, axis=-1).numpy()"
      ],
      "metadata": {
        "id": "ewQ-_282Djka"
      },
      "execution_count": 32,
      "outputs": []
    },
    {
      "cell_type": "markdown",
      "source": [
        "Hal ini memberi kita, pada setiap langkah waktu, prediksi indeks karakter berikutnya:"
      ],
      "metadata": {
        "id": "KlIWFEOHDpF7"
      }
    },
    {
      "cell_type": "code",
      "source": [
        "print(\"Input:\\n\", text_from_ids(input_example_batch[0]).numpy())\n",
        "print()\n",
        "print(\"Next Char Predictions:\\n\", text_from_ids(sampled_indices).numpy())"
      ],
      "metadata": {
        "colab": {
          "base_uri": "https://localhost:8080/"
        },
        "id": "AnIaN8SiDruj",
        "outputId": "6f41bc3a-ab13-4b84-abda-61ccaaff7c08"
      },
      "execution_count": 33,
      "outputs": [
        {
          "output_type": "stream",
          "name": "stdout",
          "text": [
            "Input:\n",
            " b'espected\\nwith man, woman, or child.\\n\\nPOMPEY:\\nSir, she was respected with him before he married with '\n",
            "\n",
            "Next Char Predictions:\n",
            " b\"$![UNK]uP-oRS3KKxO WBaLEk,uJS'X uW:Mc!'P[UNK]Bt[UNK]&z'\\nFegHCJEq?y:YEnm?Yb;Owrf$WfH.FnlwiznREboX.z;d hytC$?K3Rjs\"\n"
          ]
        }
      ]
    },
    {
      "cell_type": "markdown",
      "source": [
        "## Train Model"
      ],
      "metadata": {
        "id": "kYBJRLu1Dzti"
      }
    },
    {
      "cell_type": "markdown",
      "source": [
        "Pada titik ini permasalahan dapat dianggap sebagai permasalahan klasifikasi standar. Permasalahan dapat disimpulkan dengan : Berdasarkan status RNN sebelumnya, dan masukan langkah kali ini, prediksi kelas karakter berikutnya."
      ],
      "metadata": {
        "id": "w_EmC4-sD24C"
      }
    },
    {
      "cell_type": "markdown",
      "source": [
        "**Tambahan optimizer dan fungsi loss**"
      ],
      "metadata": {
        "id": "WZsgy1YED-sH"
      }
    },
    {
      "cell_type": "markdown",
      "source": [
        "loss function `tf.keras.losses.sparse_categorical_crossentropy` standar berfungsi dalam kasus ini karena diterapkan di seluruh dimensi terakhir prediksi. Karena model Anda mengembalikan logits, Anda perlu mengatur flag `from_logits`."
      ],
      "metadata": {
        "id": "iFlRFsWnEC0F"
      }
    },
    {
      "cell_type": "code",
      "source": [
        "loss = tf.losses.SparseCategoricalCrossentropy(from_logits=True)"
      ],
      "metadata": {
        "id": "faRjGhjDESMT"
      },
      "execution_count": 34,
      "outputs": []
    },
    {
      "cell_type": "code",
      "source": [
        "example_batch_mean_loss = loss(target_example_batch, example_batch_predictions)\n",
        "print(\"Prediction shape: \", example_batch_predictions.shape, \" # (batch_size, sequence_length, vocab_size)\")\n",
        "print(\"Mean loss:        \", example_batch_mean_loss)"
      ],
      "metadata": {
        "colab": {
          "base_uri": "https://localhost:8080/"
        },
        "id": "MjF2XLUvEVhB",
        "outputId": "1d28ff25-bf5b-40a1-b45e-9b3635858317"
      },
      "execution_count": 35,
      "outputs": [
        {
          "output_type": "stream",
          "name": "stdout",
          "text": [
            "Prediction shape:  (64, 100, 66)  # (batch_size, sequence_length, vocab_size)\n",
            "Mean loss:         tf.Tensor(4.18796, shape=(), dtype=float32)\n"
          ]
        }
      ]
    },
    {
      "cell_type": "markdown",
      "source": [
        "Model yang baru diinisialisasi tidak boleh terlalu yakin dengan dirinya sendiri, semua log keluaran harus memiliki besaran yang sama. Untuk mengonfirmasi hal ini, Anda dapat memeriksa bahwa eksponensial dari loss rata-rata harus kira-kira sama dengan ukuran kosakata. Loss yang jauh lebih tinggi berarti model tersebut yakin akan jawaban yang salah, dan memiliki inisialisasi yang buruk:"
      ],
      "metadata": {
        "id": "R2cjR4SAEYaz"
      }
    },
    {
      "cell_type": "code",
      "source": [
        "tf.exp(example_batch_mean_loss).numpy()"
      ],
      "metadata": {
        "colab": {
          "base_uri": "https://localhost:8080/"
        },
        "id": "J4vFQK01EaqT",
        "outputId": "747433ac-7b41-49bb-b6e4-ca8d5bbf9dd2"
      },
      "execution_count": 36,
      "outputs": [
        {
          "output_type": "execute_result",
          "data": {
            "text/plain": [
              "65.88825"
            ]
          },
          "metadata": {},
          "execution_count": 36
        }
      ]
    },
    {
      "cell_type": "markdown",
      "source": [
        "Konfigurasikan prosedur pelatihan menggunakan metode tf.keras.Model.compile. Gunakan tf.keras.optimizers.Adam dengan argumen default dan fungsi loss."
      ],
      "metadata": {
        "id": "F2SCfeduEcTo"
      }
    },
    {
      "cell_type": "code",
      "source": [
        "model.compile(optimizer='adam', loss=loss)"
      ],
      "metadata": {
        "id": "R6nbE0dMEbTX"
      },
      "execution_count": 37,
      "outputs": []
    },
    {
      "cell_type": "markdown",
      "source": [
        "**Konfigurasi Checkpoints**"
      ],
      "metadata": {
        "id": "2JQ_YtlcErzo"
      }
    },
    {
      "cell_type": "markdown",
      "source": [
        "Gunakan `tf.keras.callbacks.ModelCheckpoint` untuk memastikan bahwa checkpoint disimpan selama pelatihan:"
      ],
      "metadata": {
        "id": "tRCUUvZGEu3m"
      }
    },
    {
      "cell_type": "code",
      "source": [
        "# Directory where the checkpoints will be saved\n",
        "checkpoint_dir = './training_checkpoints'\n",
        "# Name of the checkpoint files\n",
        "checkpoint_prefix = os.path.join(checkpoint_dir, \"ckpt_{epoch}\")\n",
        "\n",
        "checkpoint_callback = tf.keras.callbacks.ModelCheckpoint(\n",
        "    filepath=checkpoint_prefix,\n",
        "    save_weights_only=True)"
      ],
      "metadata": {
        "id": "qLW7R0DhEx7_"
      },
      "execution_count": 38,
      "outputs": []
    },
    {
      "cell_type": "markdown",
      "source": [
        "**Lakukan Proses Training**"
      ],
      "metadata": {
        "id": "WJQ84No-E0L0"
      }
    },
    {
      "cell_type": "markdown",
      "source": [
        "Agar waktu pelatihan tidak terlalu lama, gunakan 10 epoch untuk melatih model. Di Colab, setel runtime ke GPU untuk pelatihan yang lebih cepat."
      ],
      "metadata": {
        "id": "szpnPQKEE0EI"
      }
    },
    {
      "cell_type": "code",
      "source": [
        "EPOCHS = 20"
      ],
      "metadata": {
        "id": "iNzhtPKjE5cy"
      },
      "execution_count": 39,
      "outputs": []
    },
    {
      "cell_type": "code",
      "source": [
        "history = model.fit(dataset, epochs=EPOCHS, callbacks=[checkpoint_callback])"
      ],
      "metadata": {
        "colab": {
          "base_uri": "https://localhost:8080/"
        },
        "id": "pmn8ut8KE77X",
        "outputId": "61cbb519-cdb9-474d-dddd-f66e676862d0"
      },
      "execution_count": 40,
      "outputs": [
        {
          "output_type": "stream",
          "name": "stdout",
          "text": [
            "Epoch 1/20\n",
            "172/172 [==============================] - 16s 60ms/step - loss: 2.6904\n",
            "Epoch 2/20\n",
            "172/172 [==============================] - 12s 57ms/step - loss: 1.9696\n",
            "Epoch 3/20\n",
            "172/172 [==============================] - 11s 56ms/step - loss: 1.6902\n",
            "Epoch 4/20\n",
            "172/172 [==============================] - 11s 56ms/step - loss: 1.5320\n",
            "Epoch 5/20\n",
            "172/172 [==============================] - 12s 57ms/step - loss: 1.4364\n",
            "Epoch 6/20\n",
            "172/172 [==============================] - 12s 57ms/step - loss: 1.3713\n",
            "Epoch 7/20\n",
            "172/172 [==============================] - 11s 56ms/step - loss: 1.3185\n",
            "Epoch 8/20\n",
            "172/172 [==============================] - 11s 56ms/step - loss: 1.2751\n",
            "Epoch 9/20\n",
            "172/172 [==============================] - 12s 57ms/step - loss: 1.2332\n",
            "Epoch 10/20\n",
            "172/172 [==============================] - 12s 57ms/step - loss: 1.1931\n",
            "Epoch 11/20\n",
            "172/172 [==============================] - 12s 57ms/step - loss: 1.1529\n",
            "Epoch 12/20\n",
            "172/172 [==============================] - 12s 57ms/step - loss: 1.1109\n",
            "Epoch 13/20\n",
            "172/172 [==============================] - 11s 56ms/step - loss: 1.0660\n",
            "Epoch 14/20\n",
            "172/172 [==============================] - 12s 57ms/step - loss: 1.0199\n",
            "Epoch 15/20\n",
            "172/172 [==============================] - 12s 57ms/step - loss: 0.9708\n",
            "Epoch 16/20\n",
            "172/172 [==============================] - 12s 57ms/step - loss: 0.9196\n",
            "Epoch 17/20\n",
            "172/172 [==============================] - 12s 57ms/step - loss: 0.8676\n",
            "Epoch 18/20\n",
            "172/172 [==============================] - 12s 58ms/step - loss: 0.8156\n",
            "Epoch 19/20\n",
            "172/172 [==============================] - 12s 57ms/step - loss: 0.7660\n",
            "Epoch 20/20\n",
            "172/172 [==============================] - 12s 57ms/step - loss: 0.7190\n"
          ]
        }
      ]
    },
    {
      "cell_type": "markdown",
      "source": [
        "## Generate Teks"
      ],
      "metadata": {
        "id": "eFtlYLTXFBGe"
      }
    },
    {
      "cell_type": "markdown",
      "source": [
        "Cara termudah untuk menghasilkan teks dengan model ini adalah dengan menjalankannya dalam loop, dan menyimpan status internal model saat Anda menjalankannya.\n",
        "\n",
        "![generate.png](data:image/png;base64,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)"
      ],
      "metadata": {
        "id": "h9mKmK0eFD99"
      }
    },
    {
      "cell_type": "markdown",
      "source": [
        "Setiap kali Anda memanggil model, Anda memasukkan beberapa teks dan state internal. Model mengembalikan prediksi untuk karakter berikutnya dan state barunya. Masukkan kembali prediksi dan state ke model untuk terus menghasilkan teks."
      ],
      "metadata": {
        "id": "KhrQ5ailFe9k"
      }
    },
    {
      "cell_type": "markdown",
      "source": [
        "Berikut ini membuat prediksi satu langkah:"
      ],
      "metadata": {
        "id": "7spStrtaFi4D"
      }
    },
    {
      "cell_type": "code",
      "source": [
        "class OneStep(tf.keras.Model):\n",
        "  def __init__(self, model, chars_from_ids, ids_from_chars, temperature=1.0):\n",
        "    super().__init__()\n",
        "    self.temperature = temperature\n",
        "    self.model = model\n",
        "    self.chars_from_ids = chars_from_ids\n",
        "    self.ids_from_chars = ids_from_chars\n",
        "\n",
        "    # Create a mask to prevent \"[UNK]\" from being generated.\n",
        "    skip_ids = self.ids_from_chars(['[UNK]'])[:, None]\n",
        "    sparse_mask = tf.SparseTensor(\n",
        "        # Put a -inf at each bad index.\n",
        "        values=[-float('inf')]*len(skip_ids),\n",
        "        indices=skip_ids,\n",
        "        # Match the shape to the vocabulary\n",
        "        dense_shape=[len(ids_from_chars.get_vocabulary())])\n",
        "    self.prediction_mask = tf.sparse.to_dense(sparse_mask)\n",
        "\n",
        "  @tf.function\n",
        "  def generate_one_step(self, inputs, states=None):\n",
        "    # Convert strings to token IDs.\n",
        "    input_chars = tf.strings.unicode_split(inputs, 'UTF-8')\n",
        "    input_ids = self.ids_from_chars(input_chars).to_tensor()\n",
        "\n",
        "    # Run the model.\n",
        "    # predicted_logits.shape is [batch, char, next_char_logits]\n",
        "    predicted_logits, states = self.model(inputs=input_ids, states=states,\n",
        "                                          return_state=True)\n",
        "    # Only use the last prediction.\n",
        "    predicted_logits = predicted_logits[:, -1, :]\n",
        "    predicted_logits = predicted_logits/self.temperature\n",
        "    # Apply the prediction mask: prevent \"[UNK]\" from being generated.\n",
        "    predicted_logits = predicted_logits + self.prediction_mask\n",
        "\n",
        "    # Sample the output logits to generate token IDs.\n",
        "    predicted_ids = tf.random.categorical(predicted_logits, num_samples=1)\n",
        "    predicted_ids = tf.squeeze(predicted_ids, axis=-1)\n",
        "\n",
        "    # Convert from token ids to characters\n",
        "    predicted_chars = self.chars_from_ids(predicted_ids)\n",
        "\n",
        "    # Return the characters and model state.\n",
        "    return predicted_chars, states"
      ],
      "metadata": {
        "id": "Z720vYP_FAs_"
      },
      "execution_count": 41,
      "outputs": []
    },
    {
      "cell_type": "code",
      "source": [
        "one_step_model = OneStep(model, chars_from_ids, ids_from_chars)"
      ],
      "metadata": {
        "id": "KuwRf2T9Fnz9"
      },
      "execution_count": 42,
      "outputs": []
    },
    {
      "cell_type": "markdown",
      "source": [
        "Jalankan secara berulang untuk menghasilkan beberapa teks. Melihat teks yang dihasilkan, Anda akan melihat model mengetahui kapan harus menggunakan huruf besar, membuat paragraf, dan meniru kosakata menulis seperti Shakespeare. Karena sedikitnya jumlah epoch pelatihan, model belum belajar membentuk kalimat runtut."
      ],
      "metadata": {
        "id": "5mvBknT1Fs00"
      }
    },
    {
      "cell_type": "code",
      "source": [
        "start = time.time()\n",
        "states = None\n",
        "next_char = tf.constant(['ROMEO:'])\n",
        "result = [next_char]\n",
        "\n",
        "for n in range(1000):\n",
        "  next_char, states = one_step_model.generate_one_step(next_char, states=states)\n",
        "  result.append(next_char)\n",
        "\n",
        "result = tf.strings.join(result)\n",
        "end = time.time()\n",
        "print(result[0].numpy().decode('utf-8'), '\\n\\n' + '_'*80)\n",
        "print('\\nRun time:', end - start)"
      ],
      "metadata": {
        "colab": {
          "base_uri": "https://localhost:8080/"
        },
        "id": "lzU3pmSEFv3U",
        "outputId": "1e334c54-6ff3-45f7-cafb-cbd975dd7f9e"
      },
      "execution_count": 43,
      "outputs": [
        {
          "output_type": "stream",
          "name": "stdout",
          "text": [
            "ROMEO:\n",
            "I care not.\n",
            "\n",
            "TRANIO:\n",
            "Faith, no whose names a dam?--my rape,\n",
            "May trust it o'er-she came into a sight.\n",
            "\n",
            "DUKE OF YORK:\n",
            "You bid me good on ear. This is a king,\n",
            "Nor to my heart, thousand noses and his own care as this hour,\n",
            "Your uncle York us pursued, she is willing.\n",
            "I meetent with briad justice: but he's more\n",
            "visage that was much unkindness, for they troable\n",
            "Miles, yields their hearts! Dost noble will!\n",
            "\n",
            "ISABELLA:\n",
            "Who cast offends them love?\n",
            "\n",
            "Nurse:\n",
            "His nurse! how blood, take up my heart or naw?\n",
            "O thou three earth, I will push thee everlashing\n",
            "He hath still my horse and unfewler hearts;\n",
            "And, he enjost the people had rone's ease.\n",
            "Awaked him to the Dorset, and is no less spread fall\n",
            "The anger wholes me over eight to fly,\n",
            "To brief thine crap'd not with your exile;\n",
            "That brought to thee profane that rogue.\n",
            "\n",
            "Shepherd:\n",
            "Why, there's no man ever have to sceptor' death:\n",
            "Signio Be pattife, I would have happy heart.\n",
            "The dirn to him, who begin his winters, heart\n",
            "shall not me but something that I will b \n",
            "\n",
            "________________________________________________________________________________\n",
            "\n",
            "Run time: 3.697573661804199\n"
          ]
        }
      ]
    },
    {
      "cell_type": "markdown",
      "source": [
        "Hal termudah yang dapat Anda lakukan untuk meningkatkan hasil adalah dengan melatihnya lebih lama (coba EPOCHS = 30). Anda juga dapat bereksperimen dengan string awal yang berbeda, mencoba menambahkan lapisan RNN lain untuk meningkatkan akurasi model, atau menyesuaikan parameter suhu untuk menghasilkan prediksi yang kurang lebih acak.\n",
        "\n",
        "Jika Anda ingin model menghasilkan teks lebih cepat, hal termudah yang dapat Anda lakukan adalah membuat teks secara batch. Pada contoh di bawah, model menghasilkan 5 keluaran dalam waktu yang hampir sama dengan waktu yang dibutuhkan untuk menghasilkan 1 keluaran di atas."
      ],
      "metadata": {
        "id": "C3ys2dahF0bX"
      }
    },
    {
      "cell_type": "code",
      "source": [
        "start = time.time()\n",
        "states = None\n",
        "next_char = tf.constant(['ROMEO:', 'ROMEO:', 'ROMEO:', 'ROMEO:', 'ROMEO:'])\n",
        "result = [next_char]\n",
        "\n",
        "for n in range(1000):\n",
        "  next_char, states = one_step_model.generate_one_step(next_char, states=states)\n",
        "  result.append(next_char)\n",
        "\n",
        "result = tf.strings.join(result)\n",
        "end = time.time()\n",
        "print(result, '\\n\\n' + '_'*80)\n",
        "print('\\nRun time:', end - start)"
      ],
      "metadata": {
        "colab": {
          "base_uri": "https://localhost:8080/"
        },
        "id": "DQH2Eff-F-G0",
        "outputId": "91a667a8-1277-4bd3-93b7-8b4de9cb93ae"
      },
      "execution_count": 44,
      "outputs": [
        {
          "output_type": "stream",
          "name": "stdout",
          "text": [
            "tf.Tensor(\n",
            "[b\"ROMEO:\\nThat would how could he love me rid thyself;\\nYou quickly soon as and wrong'd by,\\nHis name is Lucentio; and thou, he, conspired\\nAttorney'd by his hands and heirs,\\nThy body in full, that he will not,\\nWell demanded what you have so, I am additted\\nbefore the Duke of Gloucester!\\nThis do it far false droost, and here we lawful king;\\nTake title she was not wander'd in thy sleep'st,\\nWithout poor Richard, cousin AAgedon pend;\\nBut imagine honest with you as free,\\nAs is the kind of comfort back: when most I pray,\\nAs I came well to her once, for our father's death?\\n\\nDAKE OF YORK:\\nNo; but there's a man that is not hurl.\\n\\nShepherd:\\nI know not what, by God's health!\\nAnd leivers to Romeo, the ship, sir.\\n\\nSICINIUS:\\nHear us,\\nOrbeldom, abouh so, To hate, and thou\\nShalt fail out-fashion! where the duke hath spoke his\\nman, sir, how he's\\nProclaim 'tis all under whilst o' his\\nbehalf as he makes; even to attendent him;\\nI have stricted than any man that's flesh.\\nWhy, thou shalt I right, be gone! 'Zopules, so!\"\n",
            " b\"ROMEO:\\nWell, sir, by the good Vouchsable to this speech,\\nEscaped as springian from your virtuous mysicial as harb,\\nTo stors among me; and thy brother justice,\\nEre snett's estate, and to put many hours\\nMake good and sentence peer.\\n\\nMENENIUS:\\nO lords, Buckingham, for that oppose by your vest\\nTo see you would with kisses womb from hence;\\nTo lie in with joy. From too vile prick low on,\\nBeffecting one to give us times: but we are feel\\nWappress of him! My woes, this morrow not?\\nBy heaven, I will lead poor and to hide her cheek,\\nBiduchiors from the bising vantage.\\nThou midesty perjured he is into\\nThe traitor's since I was but noble heir:\\nDall well come by the whiteous taxe.\\n\\nKATHARINA:\\nNine! O heavens! it is a complate,\\nI could fave with her socurier, as I am, as swift to them,\\nAnd meet his prayers of perform and shut a sudden.\\n\\nMERCUTIO:\\nI will unto the proclamation:\\nYou had forght it, then in London is.\\n\\nJULIET:\\nHis name! O villain! is bring-destroy'd the nose?\\nAh, without bosom! Knock another sc\"\n",
            " b\"ROMEO:\\nBut I was; Turry, pirr.\\n\\nVerona very welcome:\\nLet's far into this Maste hare.\\n\\nVOLUMNIA:\\nBy life leave, this goodness\\nWith a serpent of a weeper-short,\\nA hortens from my health; ballad-tide\\nSit seeing a man at a father hath\\nBeguile to question, how I painted her sons,\\nSweeting all my body that I shall earth,\\nWhat time hath can no quarrel not to the open hate.\\nBut if you pretent the wager?\\n\\nLADY ANNE:\\nI show him leaden; and the provesber of his master so.\\nShall I be long? betimes, bestreds you;\\nBut siscent im fair of full as lest; it is a king:\\nRading an earthly to adist, advise ourselves with doward\\nThe usurped thee with swords. But, O, her hand!\\nThese tells overpoin and all the right,\\nWill not the prave thy speecher now?\\n\\nPOLIXENES:\\nMy lord!\\n\\nKING RICHARD III:\\nMy volsces, 'fore the envious life, before his\\nman conceit in rest. Thus true opinion! who\\n'I would be colder? We will know your drum.\\n\\nMOPSA:\\nI pray you add to the present deed.\\n\\nSOMERSET:\\nAy, if thy heaving things as death.\\n\\n\"\n",
            " b\"ROMEO:\\nThat's as it safe, Norfolk before this delight\\nIn my grost: thy tongue can give her hand.\\n\\nKING RICHARD III:\\nSay, now thou wilt of you.\\n\\nLUCIO:\\nNo fatif a merchant that I would have warm thee\\nDoth more than you will charm you all, mine uncle York.\\n\\nMENENIUS:\\nOne to his friends said hath small'st,\\nYour brother and the heed of Clarence, you\\nhave done't--opent tine tribune!\\n\\nSICINIUS:\\nMasters of garments, you con our necks,\\nOf whom they ballad of fight forth, now in a part,\\nAnd be appeared in Francel; ever spoke of a\\nCapulet; and thereby, being then refig\\nthe worst of these tardy as a fatal roof\\nShe is his blood to still murder thee,\\nI lay as little weech with him that calls\\nWhat you have made me souls, nor signify,\\nTo say Romeo weeping after; then kindly peers!\\nSake you the rambs of her persons.\\n\\nDUKE VINCENTIO:\\nAnd what too much I play the English knock\\nWe were passing peace. Now! mercy, sir, get you; and\\nthis is blest my odds. Then he like a knave\\nA cubject hot a Jack in sound of me;\\n\"\n",
            " b\"ROMEO:\\nThe more I swain there; what am I told thee,\\nEven with him like a Jaduar. O foot word,\\nYet sweet morrict,, reign as other blood and his curgendard\\nAre they desire her with a lad bridegroom whoever brought to sur\\nTo tambus us, 'tis dead, it efe's hedwage,\\nTo be rivided with old father hath\\nBore hither by your leaves from farewell like himself.\\n\\nLADY MONTAGUE:\\nWe are night, for 'tis good heart's love!\\nO, he must kill, I looked you, to be done!\\nAnd, cousin Buckingham, and sup with me,\\nThou, irnoble Northumberland, he doth with him,\\nBe rought a time hath opposited\\nWith two fellow: but not a word.\\nThus in such mannoble Marcius.\\n\\nFirst Senator:\\nAnd if you call you here?\\n\\nBRAKENBURY:\\nI think be not abidish'd, in this kindly,\\nSo many adverse paradisance,\\nHow thou wert wink and tongues it in the wars\\nOf blessed sins: 'I would he wear a traitor,\\nIf you shall have mildly hence and Queen\\nGo Walwer there so loudly\\nWitchurbed, used in joys. Come, learn's her;\\nAs being so, because I will not only\\nTe\"], shape=(5,), dtype=string) \n",
            "\n",
            "________________________________________________________________________________\n",
            "\n",
            "Run time: 3.7123422622680664\n"
          ]
        }
      ]
    },
    {
      "cell_type": "markdown",
      "source": [
        "## Ekspor Model Generator"
      ],
      "metadata": {
        "id": "AiXi2FM-F_5T"
      }
    },
    {
      "cell_type": "markdown",
      "source": [
        "Model satu langkah ini dapat dengan mudah disimpan dan digunakan kembali, memungkinkan Anda menggunakannya di mana pun `tf.saved_model` diterima."
      ],
      "metadata": {
        "id": "cvXQ0KDwGFE7"
      }
    },
    {
      "cell_type": "code",
      "source": [
        "tf.saved_model.save(one_step_model, 'one_step')\n",
        "one_step_reloaded = tf.saved_model.load('one_step')"
      ],
      "metadata": {
        "colab": {
          "base_uri": "https://localhost:8080/"
        },
        "id": "Fx7rglWOGPgV",
        "outputId": "8dc40bbb-848d-4660-b661-ce057e97eb91"
      },
      "execution_count": 45,
      "outputs": [
        {
          "output_type": "stream",
          "name": "stderr",
          "text": [
            "WARNING:tensorflow:Skipping full serialization of Keras layer <__main__.OneStep object at 0x7ff750e8a050>, because it is not built.\n",
            "WARNING:tensorflow:Model's `__init__()` arguments contain non-serializable objects. Please implement a `get_config()` method in the subclassed Model for proper saving and loading. Defaulting to empty config.\n",
            "WARNING:tensorflow:Model's `__init__()` arguments contain non-serializable objects. Please implement a `get_config()` method in the subclassed Model for proper saving and loading. Defaulting to empty config.\n"
          ]
        }
      ]
    },
    {
      "cell_type": "code",
      "source": [
        "states = None\n",
        "next_char = tf.constant(['ROMEO:'])\n",
        "result = [next_char]\n",
        "\n",
        "for n in range(100):\n",
        "  next_char, states = one_step_reloaded.generate_one_step(next_char, states=states)\n",
        "  result.append(next_char)\n",
        "\n",
        "print(tf.strings.join(result)[0].numpy().decode(\"utf-8\"))"
      ],
      "metadata": {
        "colab": {
          "base_uri": "https://localhost:8080/"
        },
        "id": "b-eybsJfGRwV",
        "outputId": "a4447c3c-94e5-4a2b-ea01-b10f77769bb6"
      },
      "execution_count": 46,
      "outputs": [
        {
          "output_type": "stream",
          "name": "stdout",
          "text": [
            "ROMEO:\n",
            "O'er life, seek hand, I know it; we'll have no cause to go\n",
            "the plate; and, take a happy day, posses\n"
          ]
        }
      ]
    }
  ]
}