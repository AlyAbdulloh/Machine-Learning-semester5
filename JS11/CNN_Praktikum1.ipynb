{
  "nbformat": 4,
  "nbformat_minor": 0,
  "metadata": {
    "colab": {
      "provenance": [],
      "gpuType": "T4",
      "authorship_tag": "ABX9TyPjguGcYryzzw8bjAqTClD9",
      "include_colab_link": true
    },
    "kernelspec": {
      "name": "python3",
      "display_name": "Python 3"
    },
    "language_info": {
      "name": "python"
    },
    "accelerator": "GPU"
  },
  "cells": [
    {
      "cell_type": "markdown",
      "metadata": {
        "id": "view-in-github",
        "colab_type": "text"
      },
      "source": [
        "<a href=\"https://colab.research.google.com/github/AlyAbdulloh/Machine-Learning-semester5/blob/main/JS11/CNN_Praktikum1.ipynb\" target=\"_parent\"><img src=\"https://colab.research.google.com/assets/colab-badge.svg\" alt=\"Open In Colab\"/></a>"
      ]
    },
    {
      "cell_type": "markdown",
      "source": [
        "# Praktikum 1"
      ],
      "metadata": {
        "id": "IYONKuJifazP"
      }
    },
    {
      "cell_type": "markdown",
      "source": [
        "Pada praktikum ini kita akan membuat model klasifikasi CNN sederhana pada kasus citra kucing dan anjing."
      ],
      "metadata": {
        "id": "NImSkKnAffBS"
      }
    },
    {
      "cell_type": "code",
      "source": [
        "from google.colab import drive\n",
        "drive.mount('/content/drive')"
      ],
      "metadata": {
        "colab": {
          "base_uri": "https://localhost:8080/"
        },
        "id": "Xjs4LnZarPfp",
        "outputId": "6ed493a2-a0ae-45b1-b134-e503ef242843"
      },
      "execution_count": 1,
      "outputs": [
        {
          "output_type": "stream",
          "name": "stdout",
          "text": [
            "Mounted at /content/drive\n"
          ]
        }
      ]
    },
    {
      "cell_type": "code",
      "source": [
        "from zipfile import ZipFile\n",
        "with ZipFile('/content/drive/MyDrive/Machine Learning/dataset.zip', 'r') as zipobj:\n",
        "  zipobj.extractall('/content/drive/MyDrive/Machine Learning/Dataset_ML')"
      ],
      "metadata": {
        "id": "2iEG8wSgliNc"
      },
      "execution_count": 2,
      "outputs": []
    },
    {
      "cell_type": "markdown",
      "source": [
        "## Langkah 1 - Import Library"
      ],
      "metadata": {
        "id": "1998PTpyfrSp"
      }
    },
    {
      "cell_type": "code",
      "execution_count": 3,
      "metadata": {
        "id": "mKdYAcdlfO6V"
      },
      "outputs": [],
      "source": [
        "import tensorflow as tf\n",
        "from keras.preprocessing.image import ImageDataGenerator"
      ]
    },
    {
      "cell_type": "markdown",
      "source": [
        "## Langkah 2 - Pra Pengolahan Data"
      ],
      "metadata": {
        "id": "EnF4aC1TfxLr"
      }
    },
    {
      "cell_type": "markdown",
      "source": [
        "Pada tahap ini kita akan sedikit melakukan manipulasi pada citra yang digunakan. Manipulasi yang dilakukan diantaranya adalah normalisasi nilai piksel, koreksi kemiringan, pembesaran (zoom), dan flip."
      ],
      "metadata": {
        "id": "3lUQmWUFf2P_"
      }
    },
    {
      "cell_type": "markdown",
      "source": [
        "### Langkah 2.1. Pra Pengolahan Data Training"
      ],
      "metadata": {
        "id": "Ili2gyNJf7MA"
      }
    },
    {
      "cell_type": "code",
      "source": [
        "train_datagen = ImageDataGenerator(rescale = 1./255,\n",
        "                                   shear_range = 0.2,\n",
        "                                   zoom_range = 0.2,\n",
        "                                   horizontal_flip = True)\n",
        "training_set = train_datagen.flow_from_directory('/content/drive/MyDrive/Machine Learning/Dataset_ML/dataset/training_set',\n",
        "                                                 target_size = (64, 64),\n",
        "                                                 batch_size = 32,\n",
        "                                                 class_mode = 'binary')"
      ],
      "metadata": {
        "id": "K2boJGU4f1JE",
        "colab": {
          "base_uri": "https://localhost:8080/"
        },
        "outputId": "0e144d68-4b97-4806-9197-d0d1fb7d137c"
      },
      "execution_count": 4,
      "outputs": [
        {
          "output_type": "stream",
          "name": "stdout",
          "text": [
            "Found 8000 images belonging to 2 classes.\n"
          ]
        }
      ]
    },
    {
      "cell_type": "markdown",
      "source": [
        "### Langkah 2.2. Pra Pengolahan Data Testing"
      ],
      "metadata": {
        "id": "ZOFAFGUqgcOh"
      }
    },
    {
      "cell_type": "code",
      "source": [
        "test_datagen = ImageDataGenerator(rescale = 1./255)\n",
        "test_set = test_datagen.flow_from_directory('/content/drive/MyDrive/Machine Learning/Dataset_ML/dataset/test_set',\n",
        "                                            target_size = (64, 64),\n",
        "                                            batch_size = 32,\n",
        "                                            class_mode = 'binary')"
      ],
      "metadata": {
        "id": "3bmWx-bFgd3k",
        "colab": {
          "base_uri": "https://localhost:8080/"
        },
        "outputId": "04aed003-0632-42c1-9ab5-ebfc555f0611"
      },
      "execution_count": 5,
      "outputs": [
        {
          "output_type": "stream",
          "name": "stdout",
          "text": [
            "Found 2000 images belonging to 2 classes.\n"
          ]
        }
      ]
    },
    {
      "cell_type": "markdown",
      "source": [
        "## Langkah 3 - Pembuatan Model CNN"
      ],
      "metadata": {
        "id": "6wtP1gR7gioN"
      }
    },
    {
      "cell_type": "markdown",
      "source": [
        "### Langkah 3.1.  - Inisiasi Model CNN"
      ],
      "metadata": {
        "id": "7xbYjrMsg1gh"
      }
    },
    {
      "cell_type": "code",
      "source": [
        "cnn = tf.keras.models.Sequential()"
      ],
      "metadata": {
        "id": "EiKREkVsg0K2"
      },
      "execution_count": 6,
      "outputs": []
    },
    {
      "cell_type": "markdown",
      "source": [
        "### Langkah 3.2. - Pembuatan Layer Konvolusi 1"
      ],
      "metadata": {
        "id": "6CME8-l1g8TK"
      }
    },
    {
      "cell_type": "code",
      "source": [
        "cnn.add(tf.keras.layers.Conv2D(filters=32, kernel_size=3, activation='relu', input_shape=[64, 64, 3]))"
      ],
      "metadata": {
        "id": "N0fAemEZg99Q"
      },
      "execution_count": 7,
      "outputs": []
    },
    {
      "cell_type": "markdown",
      "source": [
        "### Langkah 3.3 - Pembuatan Layer Pooling 1"
      ],
      "metadata": {
        "id": "AcojS3cOhSBC"
      }
    },
    {
      "cell_type": "code",
      "source": [
        "cnn.add(tf.keras.layers.MaxPool2D(pool_size=2, strides=2))"
      ],
      "metadata": {
        "id": "s_i9z4uUiKPd"
      },
      "execution_count": 8,
      "outputs": []
    },
    {
      "cell_type": "markdown",
      "source": [
        "### Langkah 3.4 - Pembuatan Layer Konvolusi 2 dan Pooling 2"
      ],
      "metadata": {
        "id": "kL8qAQePiL1b"
      }
    },
    {
      "cell_type": "code",
      "source": [
        "cnn.add(tf.keras.layers.Conv2D(filters=32, kernel_size=3, activation='relu'))\n",
        "cnn.add(tf.keras.layers.MaxPool2D(pool_size=2, strides=2))"
      ],
      "metadata": {
        "id": "d4fa4remiNtA"
      },
      "execution_count": 9,
      "outputs": []
    },
    {
      "cell_type": "markdown",
      "source": [
        "### Langkah 3.5 - Flattening"
      ],
      "metadata": {
        "id": "GBPnzlLLiSXV"
      }
    },
    {
      "cell_type": "code",
      "source": [
        "cnn.add(tf.keras.layers.Flatten())"
      ],
      "metadata": {
        "id": "djQiwAh7iYmH"
      },
      "execution_count": 10,
      "outputs": []
    },
    {
      "cell_type": "markdown",
      "source": [
        "### Langkah 3.6 - Fully Connected Layer 1 (Input)"
      ],
      "metadata": {
        "id": "dowayZAzieyJ"
      }
    },
    {
      "cell_type": "code",
      "source": [
        "cnn.add(tf.keras.layers.Dense(units=128, activation='relu'))"
      ],
      "metadata": {
        "id": "_Bs0hPBjihmF"
      },
      "execution_count": 11,
      "outputs": []
    },
    {
      "cell_type": "markdown",
      "source": [
        "### Langkah 3.7 - Fully Connected Layer 2 (Output)"
      ],
      "metadata": {
        "id": "lBgIixO4ioVK"
      }
    },
    {
      "cell_type": "code",
      "source": [
        "cnn.add(tf.keras.layers.Dense(units=1, activation='sigmoid'))"
      ],
      "metadata": {
        "id": "mlFRWl6Eiq_b"
      },
      "execution_count": 12,
      "outputs": []
    },
    {
      "cell_type": "markdown",
      "source": [
        "### Langkah 3.8 - Compile Model CNN"
      ],
      "metadata": {
        "id": "qH2GjCmDi7-v"
      }
    },
    {
      "cell_type": "code",
      "source": [
        "cnn.compile(optimizer = 'adam', loss = 'binary_crossentropy', metrics = ['accuracy'])"
      ],
      "metadata": {
        "id": "X9VT6QWdiuEV"
      },
      "execution_count": 13,
      "outputs": []
    },
    {
      "cell_type": "markdown",
      "source": [
        "Penggunaan ***loss function binary crossentropy*** dikarenakan kita hanya melakukan klasifikasi pada dua kelas, yaitu kucing dan anjing."
      ],
      "metadata": {
        "id": "DkGq3WATjG_T"
      }
    },
    {
      "cell_type": "markdown",
      "source": [
        "## Langkah 4 - Fit CNN"
      ],
      "metadata": {
        "id": "gTf81mjJjKYP"
      }
    },
    {
      "cell_type": "code",
      "source": [
        "cnn.fit(x = training_set, validation_data = test_set, epochs = 25)"
      ],
      "metadata": {
        "id": "ZlL1hORSjODk",
        "colab": {
          "base_uri": "https://localhost:8080/"
        },
        "outputId": "e3bd0ffa-e2d8-4983-83ec-4597d2c9c648"
      },
      "execution_count": 14,
      "outputs": [
        {
          "output_type": "stream",
          "name": "stdout",
          "text": [
            "Epoch 1/25\n",
            "250/250 [==============================] - 49s 149ms/step - loss: 0.6651 - accuracy: 0.5928 - val_loss: 0.6130 - val_accuracy: 0.6785\n",
            "Epoch 2/25\n",
            "250/250 [==============================] - 38s 152ms/step - loss: 0.6007 - accuracy: 0.6777 - val_loss: 0.5638 - val_accuracy: 0.7140\n",
            "Epoch 3/25\n",
            "250/250 [==============================] - 37s 148ms/step - loss: 0.5494 - accuracy: 0.7240 - val_loss: 0.5218 - val_accuracy: 0.7425\n",
            "Epoch 4/25\n",
            "250/250 [==============================] - 43s 170ms/step - loss: 0.5108 - accuracy: 0.7451 - val_loss: 0.4984 - val_accuracy: 0.7540\n",
            "Epoch 5/25\n",
            "250/250 [==============================] - 37s 148ms/step - loss: 0.4878 - accuracy: 0.7644 - val_loss: 0.4862 - val_accuracy: 0.7660\n",
            "Epoch 6/25\n",
            "250/250 [==============================] - 37s 149ms/step - loss: 0.4742 - accuracy: 0.7695 - val_loss: 0.4791 - val_accuracy: 0.7840\n",
            "Epoch 7/25\n",
            "250/250 [==============================] - 37s 148ms/step - loss: 0.4462 - accuracy: 0.7893 - val_loss: 0.4667 - val_accuracy: 0.7930\n",
            "Epoch 8/25\n",
            "250/250 [==============================] - 38s 150ms/step - loss: 0.4436 - accuracy: 0.7881 - val_loss: 0.4617 - val_accuracy: 0.7890\n",
            "Epoch 9/25\n",
            "250/250 [==============================] - 43s 171ms/step - loss: 0.4204 - accuracy: 0.8052 - val_loss: 0.4823 - val_accuracy: 0.7825\n",
            "Epoch 10/25\n",
            "250/250 [==============================] - 37s 148ms/step - loss: 0.4106 - accuracy: 0.8090 - val_loss: 0.4748 - val_accuracy: 0.7890\n",
            "Epoch 11/25\n",
            "250/250 [==============================] - 43s 171ms/step - loss: 0.4057 - accuracy: 0.8104 - val_loss: 0.5088 - val_accuracy: 0.7620\n",
            "Epoch 12/25\n",
            "250/250 [==============================] - 37s 148ms/step - loss: 0.3903 - accuracy: 0.8206 - val_loss: 0.4465 - val_accuracy: 0.8035\n",
            "Epoch 13/25\n",
            "250/250 [==============================] - 37s 150ms/step - loss: 0.3695 - accuracy: 0.8329 - val_loss: 0.4662 - val_accuracy: 0.7890\n",
            "Epoch 14/25\n",
            "250/250 [==============================] - 37s 150ms/step - loss: 0.3635 - accuracy: 0.8365 - val_loss: 0.4560 - val_accuracy: 0.8010\n",
            "Epoch 15/25\n",
            "250/250 [==============================] - 37s 148ms/step - loss: 0.3462 - accuracy: 0.8475 - val_loss: 0.4400 - val_accuracy: 0.8125\n",
            "Epoch 16/25\n",
            "250/250 [==============================] - 42s 169ms/step - loss: 0.3282 - accuracy: 0.8536 - val_loss: 0.4754 - val_accuracy: 0.8055\n",
            "Epoch 17/25\n",
            "250/250 [==============================] - 38s 153ms/step - loss: 0.3201 - accuracy: 0.8606 - val_loss: 0.4654 - val_accuracy: 0.7995\n",
            "Epoch 18/25\n",
            "250/250 [==============================] - 43s 171ms/step - loss: 0.3161 - accuracy: 0.8597 - val_loss: 0.4670 - val_accuracy: 0.7960\n",
            "Epoch 19/25\n",
            "250/250 [==============================] - 37s 147ms/step - loss: 0.3010 - accuracy: 0.8684 - val_loss: 0.4749 - val_accuracy: 0.7975\n",
            "Epoch 20/25\n",
            "250/250 [==============================] - 38s 152ms/step - loss: 0.2862 - accuracy: 0.8769 - val_loss: 0.5578 - val_accuracy: 0.7805\n",
            "Epoch 21/25\n",
            "250/250 [==============================] - 37s 147ms/step - loss: 0.2747 - accuracy: 0.8789 - val_loss: 0.5002 - val_accuracy: 0.7965\n",
            "Epoch 22/25\n",
            "250/250 [==============================] - 42s 168ms/step - loss: 0.2580 - accuracy: 0.8870 - val_loss: 0.5219 - val_accuracy: 0.7955\n",
            "Epoch 23/25\n",
            "250/250 [==============================] - 36s 145ms/step - loss: 0.2560 - accuracy: 0.8924 - val_loss: 0.5072 - val_accuracy: 0.8100\n",
            "Epoch 24/25\n",
            "250/250 [==============================] - 37s 147ms/step - loss: 0.2438 - accuracy: 0.8944 - val_loss: 0.4992 - val_accuracy: 0.7945\n",
            "Epoch 25/25\n",
            "250/250 [==============================] - 36s 144ms/step - loss: 0.2344 - accuracy: 0.9016 - val_loss: 0.5715 - val_accuracy: 0.7940\n"
          ]
        },
        {
          "output_type": "execute_result",
          "data": {
            "text/plain": [
              "<keras.src.callbacks.History at 0x7f9c05156980>"
            ]
          },
          "metadata": {},
          "execution_count": 14
        }
      ]
    },
    {
      "cell_type": "markdown",
      "source": [
        "## Langkah 5 - Prediksi dengan 1 Citra"
      ],
      "metadata": {
        "id": "k2sy4iQfjQbD"
      }
    },
    {
      "cell_type": "markdown",
      "source": [
        "Pada langkah ini, kita akan mencoba melakukan prediksi pada 1 citra anjing dan kucing."
      ],
      "metadata": {
        "id": "yYA5LLZrjYE4"
      }
    },
    {
      "cell_type": "code",
      "source": [
        "import numpy as np\n",
        "from keras.preprocessing import image\n",
        "test_image = image.load_img('/content/drive/MyDrive/Machine Learning/Dataset_ML/dataset/single_prediction/cat_or_dog_1.jpg', target_size = (64, 64))\n",
        "test_image = image.img_to_array(test_image)\n",
        "test_image = np.expand_dims(test_image, axis = 0)\n",
        "result = cnn.predict(test_image)\n",
        "training_set.class_indices\n",
        "if result[0][0] == 1:\n",
        "  prediction = 'dog'\n",
        "  print(prediction)\n",
        "else:\n",
        "  prediction = 'cat'\n",
        "  print(prediction)\n"
      ],
      "metadata": {
        "id": "9NTYgi78jWRO",
        "colab": {
          "base_uri": "https://localhost:8080/"
        },
        "outputId": "1ce7b098-876d-47c6-ee4f-12467225c0e5"
      },
      "execution_count": 15,
      "outputs": [
        {
          "output_type": "stream",
          "name": "stdout",
          "text": [
            "1/1 [==============================] - 0s 160ms/step\n",
            "dog\n"
          ]
        }
      ]
    }
  ]
}